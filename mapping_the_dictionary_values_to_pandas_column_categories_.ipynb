{
  "cells": [
    {
      "cell_type": "code",
      "execution_count": 1,
      "metadata": {
        "colab": {
          "base_uri": "https://localhost:8080/"
        },
        "id": "7eu_qxJLsNSH",
        "outputId": "bf916370-273d-4f74-bb54-2c5eb891948d"
      },
      "outputs": [
        {
          "output_type": "execute_result",
          "data": {
            "text/plain": [
              "(613, 31)"
            ]
          },
          "metadata": {},
          "execution_count": 1
        }
      ],
      "source": [
        "import pandas as pd \n",
        "df=pd.read_excel('/content/do_it.xlsx')\n",
        "df.head()\n",
        "df.shape"
      ]
    },
    {
      "cell_type": "code",
      "source": [
        "def map_score(score):\n",
        "  if score >= 18.0:\n",
        "    return \"Very good\"\n",
        "  elif score >= 12.0 :\n",
        "    return \"good\"\n",
        "  else:\n",
        "    return \"not good\"\n",
        "\n",
        "df[\"Labels\"] = df[\"JV_default_PCE\"].apply(lambda score: map_score(score))\n",
        "df[\"Labels\"].value_counts()\n",
        "df['Labels']\n",
        "#df[\"Labels\"].value_counts()"
      ],
      "metadata": {
        "colab": {
          "base_uri": "https://localhost:8080/"
        },
        "id": "69Rbo3zzubrZ",
        "outputId": "ba0d918e-6116-4f44-dba7-90218a4cd381"
      },
      "execution_count": 2,
      "outputs": [
        {
          "output_type": "execute_result",
          "data": {
            "text/plain": [
              "0       not good\n",
              "1       not good\n",
              "2       not good\n",
              "3           good\n",
              "4           good\n",
              "         ...    \n",
              "608    Very good\n",
              "609     not good\n",
              "610     not good\n",
              "611     not good\n",
              "612     not good\n",
              "Name: Labels, Length: 613, dtype: object"
            ]
          },
          "metadata": {},
          "execution_count": 2
        }
      ]
    },
    {
      "cell_type": "code",
      "source": [
        "label_dic={'Very good':1,'good':2, 'not good':3}\n",
        "df['Labels']=df.Labels.map(label_dic)\n",
        "df['Labels'].value_counts()"
      ],
      "metadata": {
        "id": "m5fFcPE5ubu_",
        "colab": {
          "base_uri": "https://localhost:8080/"
        },
        "outputId": "4ad9cca6-26d9-4c2d-8f7d-49166f7dabd8"
      },
      "execution_count": 3,
      "outputs": [
        {
          "output_type": "execute_result",
          "data": {
            "text/plain": [
              "3    248\n",
              "2    241\n",
              "1    124\n",
              "Name: Labels, dtype: int64"
            ]
          },
          "metadata": {},
          "execution_count": 3
        }
      ]
    },
    {
      "cell_type": "code",
      "source": [
        ""
      ],
      "metadata": {
        "id": "Do3pi40lfs8F"
      },
      "execution_count": null,
      "outputs": []
    }
  ],
  "metadata": {
    "colab": {
      "name": "mapping the dictionary values to pandas column categories .ipynb",
      "provenance": [],
      "collapsed_sections": []
    },
    "kernelspec": {
      "display_name": "Python 3",
      "name": "python3"
    },
    "language_info": {
      "name": "python"
    }
  },
  "nbformat": 4,
  "nbformat_minor": 0
}